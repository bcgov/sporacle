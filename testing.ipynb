{
 "cells": [
  {
   "cell_type": "code",
   "execution_count": null,
   "metadata": {},
   "outputs": [],
   "source": [
    "from oracle_test import OracleSpatialQueries\n",
    "import time\n",
    "import os\n",
    "t1 = time.time()\n",
    "db = OracleSpatialQueries(\n",
    "    user=\"\", password=\"\"\n",
    ")\n",
    "db.add_aoi(\"aoi.kml\")"
   ]
  },
  {
   "cell_type": "code",
   "execution_count": null,
   "metadata": {},
   "outputs": [],
   "source": [
    "idf = db.get_intersect_local(table=\"WHSE_FOREST_VEGETATION.VEG_COMP_LYR_R1_POLY\",dfn_query=\"PROJ_AGE_1 > 30\")\n",
    "idf.plot()"
   ]
  },
  {
   "cell_type": "code",
   "execution_count": null,
   "metadata": {},
   "outputs": [],
   "source": [
    "nidf = db.get_intersecting(table=\"WHSE_FOREST_VEGETATION.VEG_COMP_LYR_R1_POLY\",dfn_query=\"PROJ_AGE_1 > 30\")\n",
    "nidf.plot()"
   ]
  }
 ],
 "metadata": {
  "kernelspec": {
   "display_name": "uwrtools",
   "language": "python",
   "name": "python3"
  },
  "language_info": {
   "codemirror_mode": {
    "name": "ipython",
    "version": 3
   },
   "file_extension": ".py",
   "mimetype": "text/x-python",
   "name": "python",
   "nbconvert_exporter": "python",
   "pygments_lexer": "ipython3",
   "version": "3.11.6"
  }
 },
 "nbformat": 4,
 "nbformat_minor": 2
}
